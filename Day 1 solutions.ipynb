{
 "cells": [
  {
   "cell_type": "code",
   "execution_count": 1,
   "metadata": {},
   "outputs": [
    {
     "name": "stdout",
     "output_type": "stream",
     "text": [
      "hello World!!!!!\n"
     ]
    }
   ],
   "source": [
    "# Printing hello world\n",
    "print(\"hello World!!!!!\")"
   ]
  },
  {
   "cell_type": "code",
   "execution_count": 2,
   "metadata": {},
   "outputs": [
    {
     "name": "stdout",
     "output_type": "stream",
     "text": [
      "1\n",
      "2\n",
      "3\n"
     ]
    }
   ],
   "source": [
    "#Printing in sequence\n",
    "print(\"1\")\n",
    "print(\"2\")\n",
    "print(\"3\")"
   ]
  },
  {
   "cell_type": "code",
   "execution_count": 3,
   "metadata": {},
   "outputs": [
    {
     "name": "stdout",
     "output_type": "stream",
     "text": [
      "100\n"
     ]
    }
   ],
   "source": [
    "#Simple variable\n",
    "number_1= 100\n",
    "print(number_1)"
   ]
  },
  {
   "cell_type": "code",
   "execution_count": 4,
   "metadata": {},
   "outputs": [
    {
     "name": "stdout",
     "output_type": "stream",
     "text": [
      "2\n",
      "11.0\n",
      "Hello World\n",
      "True\n"
     ]
    }
   ],
   "source": [
    "# Operations\n",
    "print(1+1)\n",
    "print(1.2+9.8)\n",
    "print(\"Hello \"+\"World\")\n",
    "print(True and True)"
   ]
  },
  {
   "cell_type": "code",
   "execution_count": 6,
   "metadata": {},
   "outputs": [
    {
     "name": "stdout",
     "output_type": "stream",
     "text": [
      "100\n",
      "101\n"
     ]
    }
   ],
   "source": [
    "#Variable example with writing value\n",
    "Number_1=100\n",
    "print(Number_1)\n",
    "Number_1=Number_1+1\n",
    "print(Number_1)"
   ]
  },
  {
   "cell_type": "code",
   "execution_count": 7,
   "metadata": {},
   "outputs": [
    {
     "name": "stdout",
     "output_type": "stream",
     "text": [
      "Mr Lin IS Awesome\n"
     ]
    }
   ],
   "source": [
    "#Variable example with strings\n",
    "x= \"Mr Lin IS \"\n",
    "y= \"Awesome\"\n",
    "z= x+y\n",
    "print(z)"
   ]
  },
  {
   "cell_type": "code",
   "execution_count": 8,
   "metadata": {},
   "outputs": [
    {
     "name": "stdout",
     "output_type": "stream",
     "text": [
      "True\n",
      "False\n",
      "False\n",
      "True\n"
     ]
    }
   ],
   "source": [
    "# Conditional operations\n",
    "print(10>5)\n",
    "print(10==5)\n",
    "print(10!=5)\n",
    "print(10<5)\n",
    "print(6<=6)"
   ]
  },
  {
   "cell_type": "code",
   "execution_count": 12,
   "metadata": {},
   "outputs": [
    {
     "name": "stdout",
     "output_type": "stream",
     "text": [
      "How much money do you have? (Dont Lie)\n",
      "25\n",
      "The item costs 25 bucks\n",
      "Bought,\n",
      "You now have,0$\n"
     ]
    }
   ],
   "source": [
    "#Condition example, Buying stuff.\n",
    "print(\"How much money do you have? (Dont Lie)\")\n",
    "Money= int(input())\n",
    "print(\"The item costs 25 bucks\")\n",
    "Cost=25\n",
    "if Money>=Cost:\n",
    "    print(\"Bought,\")\n",
    "    Money=Money-Cost\n",
    "    print(\"You now have,\"+str(Money)+\"$\")\n",
    "else:\n",
    "    print(\"You don't have enougth money, Your broke\")"
   ]
  },
  {
   "cell_type": "code",
   "execution_count": 13,
   "metadata": {},
   "outputs": [
    {
     "ename": "SyntaxError",
     "evalue": "invalid syntax (<ipython-input-13-534acc39eb3e>, line 9)",
     "output_type": "error",
     "traceback": [
      "\u001b[0;36m  File \u001b[0;32m\"<ipython-input-13-534acc39eb3e>\"\u001b[0;36m, line \u001b[0;32m9\u001b[0m\n\u001b[0;31m    if(???):\u001b[0m\n\u001b[0m       ^\u001b[0m\n\u001b[0;31mSyntaxError\u001b[0m\u001b[0;31m:\u001b[0m invalid syntax\n"
     ]
    }
   ],
   "source": [
    "#Challenge- Is a number between two bounds?\n",
    "print(\"What is your number?\")\n",
    "Num=int(input())\n",
    "print(\"What is your first Bound?\")\n",
    "BoundA=int(input())\n",
    "print(\"What is your second Bound?\")\n",
    "BoundB=int(input())\n",
    "\n",
    "if(???): #What conditions do you need to check?\n",
    "    if(???):\n",
    "        print(\"Your number is inbetween the bounds\")"
   ]
  },
  {
   "cell_type": "code",
   "execution_count": null,
   "metadata": {},
   "outputs": [],
   "source": []
  }
 ],
 "metadata": {
  "kernelspec": {
   "display_name": "Python 3",
   "language": "python",
   "name": "python3"
  },
  "language_info": {
   "codemirror_mode": {
    "name": "ipython",
    "version": 3
   },
   "file_extension": ".py",
   "mimetype": "text/x-python",
   "name": "python",
   "nbconvert_exporter": "python",
   "pygments_lexer": "ipython3",
   "version": "3.6.5"
  }
 },
 "nbformat": 4,
 "nbformat_minor": 2
}
