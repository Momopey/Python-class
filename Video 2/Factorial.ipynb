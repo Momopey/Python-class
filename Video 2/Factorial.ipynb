{
 "cells": [
  {
   "cell_type": "code",
   "execution_count": 13,
   "metadata": {},
   "outputs": [
    {
     "name": "stdout",
     "output_type": "stream",
     "text": [
      "Please input n to calculate n! 4\n",
      "24\n"
     ]
    }
   ],
   "source": [
    "n = int(input(\"Please input n to calculate n! \"))\n",
    "product = 1 #Product has to be equal to 1. If it is set to 0, any other number times the product is 0\n",
    "i = n\n",
    "while (i >= 1):\n",
    "    product = product * i \n",
    "    i = i -1\n",
    "print(product)\n"
   ]
  },
  {
   "cell_type": "markdown",
   "metadata": {},
   "source": []
  },
  {
   "cell_type": "markdown",
   "metadata": {},
   "source": []
  }
 ],
 "metadata": {
  "kernelspec": {
   "display_name": "Python 3",
   "language": "python",
   "name": "python3"
  },
  "language_info": {
   "codemirror_mode": {
    "name": "ipython",
    "version": 3
   },
   "file_extension": ".py",
   "mimetype": "text/x-python",
   "name": "python",
   "nbconvert_exporter": "python",
   "pygments_lexer": "ipython3",
   "version": "3.6.5"
  }
 },
 "nbformat": 4,
 "nbformat_minor": 2
}
